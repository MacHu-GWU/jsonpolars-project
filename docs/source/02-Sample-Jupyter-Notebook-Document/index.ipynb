{
 "cells": [
  {
   "cell_type": "markdown",
   "id": "cc2b57e5-9ba9-4146-bd85-963b561d3b87",
   "metadata": {},
   "source": [
    "# Sample Jupyter Notebook Document\n",
    "\n",
    "![logo](https://raw.githubusercontent.com/MacHu-GWU/cookiecutter-pyproject/main/logo/png/logo-no-background.png)\n",
    "\n",
    "## Hello World"
   ]
  },
  {
   "cell_type": "code",
   "execution_count": 3,
   "id": "cf1fdf52-a193-4539-a246-13d54a77f8af",
   "metadata": {
    "ExecuteTime": {
     "start_time": "2023-09-25T15:36:14.925278Z",
     "end_time": "2023-09-25T15:36:14.929877Z"
    }
   },
   "outputs": [
    {
     "name": "stdout",
     "output_type": "stream",
     "text": [
      "hello world\n"
     ]
    }
   ],
   "source": [
    "print(\"hello world\")"
   ]
  },
  {
   "cell_type": "code",
   "execution_count": null,
   "outputs": [],
   "source": [],
   "metadata": {
    "collapsed": false
   }
  }
 ],
 "metadata": {
  "kernelspec": {
   "display_name": "Python 3 (ipykernel)",
   "language": "python",
   "name": "python3"
  },
  "language_info": {
   "codemirror_mode": {
    "name": "ipython",
    "version": 3
   },
   "file_extension": ".py",
   "mimetype": "text/x-python",
   "name": "python",
   "nbconvert_exporter": "python",
   "pygments_lexer": "ipython3",
   "version": "3.8.11"
  }
 },
 "nbformat": 4,
 "nbformat_minor": 5
}
